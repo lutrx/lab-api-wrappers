{
 "cells": [
  {
   "cell_type": "code",
   "execution_count": 1,
   "id": "d6446d1f",
   "metadata": {},
   "outputs": [],
   "source": [
    "import spotipy\n",
    "from spotipy.oauth2 import SpotifyClientCredentials\n",
    "from random import randint\n",
    "from time import sleep\n"
   ]
  },
  {
   "cell_type": "code",
   "execution_count": 2,
   "id": "14b99a7f",
   "metadata": {},
   "outputs": [],
   "source": [
    "secrets_file = open(\"C:/Users/lisab/OneDrive/Desktop/DA_labs/Week_6/Spotify_API.txt\")"
   ]
  },
  {
   "cell_type": "code",
   "execution_count": 3,
   "id": "597fe8ab",
   "metadata": {},
   "outputs": [],
   "source": [
    "string = secrets_file.read()"
   ]
  },
  {
   "cell_type": "code",
   "execution_count": 4,
   "id": "09eaedf9",
   "metadata": {},
   "outputs": [],
   "source": [
    "secrets_dict={}\n",
    "for line in string.split('\\n'):\n",
    "    if len(line) > 0:\n",
    "        secrets_dict[line.split(':')[0]]=line.split(':')[1].strip()"
   ]
  },
  {
   "cell_type": "code",
   "execution_count": 5,
   "id": "f278fe6c",
   "metadata": {},
   "outputs": [],
   "source": [
    "#Initialize SpotiPy with user credentials\n",
    "sp = spotipy.Spotify(auth_manager=SpotifyClientCredentials(client_id=secrets_dict['Client ID'],\n",
    "                                                           client_secret=secrets_dict['Client Secret']))"
   ]
  },
  {
   "cell_type": "code",
   "execution_count": 6,
   "id": "f07233ad",
   "metadata": {},
   "outputs": [],
   "source": [
    "songs_collection = []"
   ]
  },
  {
   "cell_type": "code",
   "execution_count": 7,
   "id": "956d343e",
   "metadata": {},
   "outputs": [],
   "source": [
    "def get_playlist_tracks(playlist_id):\n",
    "    results = sp.user_playlist_tracks(\"spotify\",playlist_id)\n",
    "    tracks = results['items']\n",
    "    while results['next']!=None:\n",
    "        results = sp.next(results)\n",
    "        tracks = tracks + results['items']\n",
    "        sleep(randint(1,3000/1000)) #respectful nap\n",
    "    return tracks"
   ]
  },
  {
   "cell_type": "code",
   "execution_count": 8,
   "id": "1be16ea1",
   "metadata": {},
   "outputs": [],
   "source": [
    "# this will take at least around num_songs_in_playlist * (avg_sleep_time + processing_time) = 53 * (2+0.1) = 110 seconds\n",
    "\n",
    "all_tracks = get_playlist_tracks(\"4rnleEAOdmFAbRcNCgZMpY\")"
   ]
  },
  {
   "cell_type": "code",
   "execution_count": 9,
   "id": "6337bb49",
   "metadata": {},
   "outputs": [
    {
     "data": {
      "text/plain": [
       "dict_keys(['added_at', 'added_by', 'is_local', 'primary_color', 'track', 'video_thumbnail'])"
      ]
     },
     "execution_count": 9,
     "metadata": {},
     "output_type": "execute_result"
    }
   ],
   "source": [
    "all_tracks[0].keys()"
   ]
  },
  {
   "cell_type": "code",
   "execution_count": 10,
   "id": "f73febe0",
   "metadata": {},
   "outputs": [
    {
     "data": {
      "text/plain": [
       "{'album': {'album_group': 'album',\n",
       "  'album_type': 'album',\n",
       "  'artists': [{'external_urls': {'spotify': 'https://open.spotify.com/artist/2FXC3k01G6Gw61bmprjgqS'},\n",
       "    'href': 'https://api.spotify.com/v1/artists/2FXC3k01G6Gw61bmprjgqS',\n",
       "    'id': '2FXC3k01G6Gw61bmprjgqS',\n",
       "    'name': 'Hozier',\n",
       "    'type': 'artist',\n",
       "    'uri': 'spotify:artist:2FXC3k01G6Gw61bmprjgqS'}],\n",
       "  'available_markets': [],\n",
       "  'external_urls': {'spotify': 'https://open.spotify.com/album/7HW03Zew4rnOhy5uwskRSz'},\n",
       "  'href': 'https://api.spotify.com/v1/albums/7HW03Zew4rnOhy5uwskRSz',\n",
       "  'id': '7HW03Zew4rnOhy5uwskRSz',\n",
       "  'images': [{'height': 640,\n",
       "    'url': 'https://i.scdn.co/image/ab67616d0000b2736a452516b66b53f65a3e4b33',\n",
       "    'width': 640},\n",
       "   {'height': 300,\n",
       "    'url': 'https://i.scdn.co/image/ab67616d00001e026a452516b66b53f65a3e4b33',\n",
       "    'width': 300},\n",
       "   {'height': 64,\n",
       "    'url': 'https://i.scdn.co/image/ab67616d000048516a452516b66b53f65a3e4b33',\n",
       "    'width': 64}],\n",
       "  'is_playable': True,\n",
       "  'name': 'Hozier (Deluxe)',\n",
       "  'release_date': '2014-05-20',\n",
       "  'release_date_precision': 'day',\n",
       "  'total_tracks': 17,\n",
       "  'type': 'album',\n",
       "  'uri': 'spotify:album:7HW03Zew4rnOhy5uwskRSz'},\n",
       " 'artists': [{'external_urls': {'spotify': 'https://open.spotify.com/artist/2FXC3k01G6Gw61bmprjgqS'},\n",
       "   'href': 'https://api.spotify.com/v1/artists/2FXC3k01G6Gw61bmprjgqS',\n",
       "   'id': '2FXC3k01G6Gw61bmprjgqS',\n",
       "   'name': 'Hozier',\n",
       "   'type': 'artist',\n",
       "   'uri': 'spotify:artist:2FXC3k01G6Gw61bmprjgqS'}],\n",
       " 'available_markets': [],\n",
       " 'disc_number': 1,\n",
       " 'duration_ms': 241688,\n",
       " 'episode': False,\n",
       " 'explicit': False,\n",
       " 'external_ids': {'isrc': 'IEACJ1300031'},\n",
       " 'external_urls': {'spotify': 'https://open.spotify.com/track/7dS5EaCoMnN7DzlpT6aRn2'},\n",
       " 'href': 'https://api.spotify.com/v1/tracks/7dS5EaCoMnN7DzlpT6aRn2',\n",
       " 'id': '7dS5EaCoMnN7DzlpT6aRn2',\n",
       " 'is_local': False,\n",
       " 'name': 'Take Me To Church',\n",
       " 'popularity': 0,\n",
       " 'preview_url': None,\n",
       " 'track': True,\n",
       " 'track_number': 1,\n",
       " 'type': 'track',\n",
       " 'uri': 'spotify:track:7dS5EaCoMnN7DzlpT6aRn2'}"
      ]
     },
     "execution_count": 10,
     "metadata": {},
     "output_type": "execute_result"
    }
   ],
   "source": [
    "#Getting one track dict with all information from the complete playlist\n",
    "all_tracks[0]['track']"
   ]
  },
  {
   "cell_type": "code",
   "execution_count": 11,
   "id": "eed533f7",
   "metadata": {},
   "outputs": [
    {
     "data": {
      "text/plain": [
       "'Take Me To Church'"
      ]
     },
     "execution_count": 11,
     "metadata": {},
     "output_type": "execute_result"
    }
   ],
   "source": [
    "#Getting song title\n",
    "all_tracks[0]['track']['name']"
   ]
  },
  {
   "cell_type": "code",
   "execution_count": 12,
   "id": "f4209e04",
   "metadata": {},
   "outputs": [
    {
     "data": {
      "text/plain": [
       "[{'external_urls': {'spotify': 'https://open.spotify.com/artist/2FXC3k01G6Gw61bmprjgqS'},\n",
       "  'href': 'https://api.spotify.com/v1/artists/2FXC3k01G6Gw61bmprjgqS',\n",
       "  'id': '2FXC3k01G6Gw61bmprjgqS',\n",
       "  'name': 'Hozier',\n",
       "  'type': 'artist',\n",
       "  'uri': 'spotify:artist:2FXC3k01G6Gw61bmprjgqS'}]"
      ]
     },
     "execution_count": 12,
     "metadata": {},
     "output_type": "execute_result"
    }
   ],
   "source": [
    "#Getting the artists\n",
    "all_tracks[0]['track']['artists']"
   ]
  },
  {
   "cell_type": "code",
   "execution_count": 13,
   "id": "2d11fad7",
   "metadata": {},
   "outputs": [
    {
     "data": {
      "text/plain": [
       "'spotify:track:7dS5EaCoMnN7DzlpT6aRn2'"
      ]
     },
     "execution_count": 13,
     "metadata": {},
     "output_type": "execute_result"
    }
   ],
   "source": [
    "#Getting the URI of the song\n",
    "all_tracks[0]['track']['uri']"
   ]
  },
  {
   "cell_type": "code",
   "execution_count": 14,
   "id": "45867b2c",
   "metadata": {},
   "outputs": [
    {
     "data": {
      "text/plain": [
       "'7dS5EaCoMnN7DzlpT6aRn2'"
      ]
     },
     "execution_count": 14,
     "metadata": {},
     "output_type": "execute_result"
    }
   ],
   "source": [
    "#Getting the song ID:\n",
    "all_tracks[0]['track']['id']"
   ]
  },
  {
   "cell_type": "code",
   "execution_count": 15,
   "id": "d8d9d144",
   "metadata": {},
   "outputs": [
    {
     "data": {
      "text/plain": [
       "[{'danceability': 0.566,\n",
       "  'energy': 0.664,\n",
       "  'key': 4,\n",
       "  'loudness': -5.303,\n",
       "  'mode': 0,\n",
       "  'speechiness': 0.0464,\n",
       "  'acousticness': 0.634,\n",
       "  'instrumentalness': 0,\n",
       "  'liveness': 0.116,\n",
       "  'valence': 0.437,\n",
       "  'tempo': 128.945,\n",
       "  'type': 'audio_features',\n",
       "  'id': '7dS5EaCoMnN7DzlpT6aRn2',\n",
       "  'uri': 'spotify:track:7dS5EaCoMnN7DzlpT6aRn2',\n",
       "  'track_href': 'https://api.spotify.com/v1/tracks/7dS5EaCoMnN7DzlpT6aRn2',\n",
       "  'analysis_url': 'https://api.spotify.com/v1/audio-analysis/7dS5EaCoMnN7DzlpT6aRn2',\n",
       "  'duration_ms': 241688,\n",
       "  'time_signature': 4}]"
      ]
     },
     "execution_count": 15,
     "metadata": {},
     "output_type": "execute_result"
    }
   ],
   "source": [
    "song_uri = all_tracks[0]['track']['uri']\n",
    "# get the audio features for that song\n",
    "sp.audio_features(song_uri)"
   ]
  },
  {
   "cell_type": "code",
   "execution_count": 16,
   "id": "4e9756f4",
   "metadata": {},
   "outputs": [],
   "source": [
    "def getSongInfo(playlist):\n",
    "    all_info = []\n",
    "    for track in playlist:\n",
    "        if track['track'] != None:\n",
    "            song_dict = {}\n",
    "            song_dict['title'] = track['track']['name'] \n",
    "            artists = []\n",
    "            for artist in track['track']['artists']:\n",
    "                if artist['name'] != None:\n",
    "                    artists.append(artist['name']) \n",
    "                else:\n",
    "                    artists.append('None')\n",
    "            song_dict['artists'] = artists\n",
    "            song_uri = track['track']['uri']\n",
    "            song_dict['uri'] = song_uri\n",
    "            all_info.append(song_dict)\n",
    "    return all_info"
   ]
  },
  {
   "cell_type": "code",
   "execution_count": 17,
   "id": "3abeb0e0",
   "metadata": {},
   "outputs": [],
   "source": [
    "first_playlist = getSongInfo(all_tracks)"
   ]
  },
  {
   "cell_type": "code",
   "execution_count": 18,
   "id": "eb7ce48e",
   "metadata": {},
   "outputs": [],
   "source": [
    "#first_playlist"
   ]
  },
  {
   "cell_type": "code",
   "execution_count": 19,
   "id": "5149e360",
   "metadata": {},
   "outputs": [],
   "source": [
    "import pandas as pd"
   ]
  },
  {
   "cell_type": "code",
   "execution_count": 20,
   "id": "1eebfb2a",
   "metadata": {},
   "outputs": [],
   "source": [
    "songs_collection = songs_collection + first_playlist"
   ]
  },
  {
   "cell_type": "code",
   "execution_count": 21,
   "id": "74daab95",
   "metadata": {},
   "outputs": [],
   "source": [
    "#pd.DataFrame(songs_collection)"
   ]
  },
  {
   "cell_type": "code",
   "execution_count": 22,
   "id": "1774893f",
   "metadata": {},
   "outputs": [],
   "source": [
    "#Way top go for every new playlist\n",
    "#x = get_playlist_tracks(playlist_id)\n",
    "#x = getSongInfo(playlist)\n",
    "#songs_collection = songs_collection + x"
   ]
  },
  {
   "cell_type": "code",
   "execution_count": 23,
   "id": "6d5cd00a",
   "metadata": {},
   "outputs": [],
   "source": [
    "#Second playlist\n",
    "second_playlist = get_playlist_tracks('33FRDbQyLp5XCkpoIcGjck')"
   ]
  },
  {
   "cell_type": "code",
   "execution_count": 24,
   "id": "df8ce7fb",
   "metadata": {},
   "outputs": [
    {
     "data": {
      "text/plain": [
       "2480"
      ]
     },
     "execution_count": 24,
     "metadata": {},
     "output_type": "execute_result"
    }
   ],
   "source": [
    "len(second_playlist)"
   ]
  },
  {
   "cell_type": "code",
   "execution_count": 25,
   "id": "bea9739c",
   "metadata": {},
   "outputs": [],
   "source": [
    "second_playlist_info = getSongInfo(second_playlist)"
   ]
  },
  {
   "cell_type": "code",
   "execution_count": 26,
   "id": "895d1753",
   "metadata": {},
   "outputs": [],
   "source": [
    "#second_playlist_info"
   ]
  },
  {
   "cell_type": "code",
   "execution_count": 27,
   "id": "778818db",
   "metadata": {},
   "outputs": [],
   "source": [
    "songs_collection = songs_collection + second_playlist_info"
   ]
  },
  {
   "cell_type": "code",
   "execution_count": 28,
   "id": "372e6223",
   "metadata": {},
   "outputs": [],
   "source": [
    "#Third playlist\n",
    "third_playlist = get_playlist_tracks('6FrDaUqpVA7TbQ1YkSRAjx')\n",
    "third_playlist_info = getSongInfo(third_playlist)\n",
    "songs_collection = songs_collection + third_playlist_info"
   ]
  },
  {
   "cell_type": "code",
   "execution_count": 38,
   "id": "24799242",
   "metadata": {},
   "outputs": [
    {
     "data": {
      "text/html": [
       "<div>\n",
       "<style scoped>\n",
       "    .dataframe tbody tr th:only-of-type {\n",
       "        vertical-align: middle;\n",
       "    }\n",
       "\n",
       "    .dataframe tbody tr th {\n",
       "        vertical-align: top;\n",
       "    }\n",
       "\n",
       "    .dataframe thead th {\n",
       "        text-align: right;\n",
       "    }\n",
       "</style>\n",
       "<table border=\"1\" class=\"dataframe\">\n",
       "  <thead>\n",
       "    <tr style=\"text-align: right;\">\n",
       "      <th></th>\n",
       "      <th>title</th>\n",
       "      <th>artists</th>\n",
       "      <th>uri</th>\n",
       "    </tr>\n",
       "  </thead>\n",
       "  <tbody>\n",
       "    <tr>\n",
       "      <th>0</th>\n",
       "      <td>Take Me To Church</td>\n",
       "      <td>[Hozier]</td>\n",
       "      <td>spotify:track:7dS5EaCoMnN7DzlpT6aRn2</td>\n",
       "    </tr>\n",
       "    <tr>\n",
       "      <th>1</th>\n",
       "      <td>Cooler Than Me - Single Mix</td>\n",
       "      <td>[Mike Posner, Gigamesh]</td>\n",
       "      <td>spotify:track:2V4bv1fNWfTcyRJKmej6Sj</td>\n",
       "    </tr>\n",
       "    <tr>\n",
       "      <th>2</th>\n",
       "      <td>See You Again (feat. Kali Uchis)</td>\n",
       "      <td>[Tyler, The Creator, Kali Uchis]</td>\n",
       "      <td>spotify:track:7KA4W4McWYRpgf0fWsJZWB</td>\n",
       "    </tr>\n",
       "    <tr>\n",
       "      <th>3</th>\n",
       "      <td>Pompeii</td>\n",
       "      <td>[Bastille]</td>\n",
       "      <td>spotify:track:3gbBpTdY8lnQwqxNCcf795</td>\n",
       "    </tr>\n",
       "    <tr>\n",
       "      <th>4</th>\n",
       "      <td>Hips Don't Lie (feat. Wyclef Jean)</td>\n",
       "      <td>[Shakira, Wyclef Jean]</td>\n",
       "      <td>spotify:track:3ZFTkvIE7kyPt6Nu3PEa7V</td>\n",
       "    </tr>\n",
       "    <tr>\n",
       "      <th>...</th>\n",
       "      <td>...</td>\n",
       "      <td>...</td>\n",
       "      <td>...</td>\n",
       "    </tr>\n",
       "    <tr>\n",
       "      <th>8447</th>\n",
       "      <td>Hot N Cold</td>\n",
       "      <td>[Katy Perry]</td>\n",
       "      <td>spotify:track:1ulXmqjktxSdrdT1bzc69H</td>\n",
       "    </tr>\n",
       "    <tr>\n",
       "      <th>8448</th>\n",
       "      <td>What Lovers Do</td>\n",
       "      <td>[Maroon 5, SZA]</td>\n",
       "      <td>spotify:track:0ExtPzAWi4arQz6kaabm02</td>\n",
       "    </tr>\n",
       "    <tr>\n",
       "      <th>8449</th>\n",
       "      <td>You Need To Calm Down - Clean Bandit Remix</td>\n",
       "      <td>[Taylor Swift, Clean Bandit]</td>\n",
       "      <td>spotify:track:7Bjf96uNizpvXLvNyOJpst</td>\n",
       "    </tr>\n",
       "    <tr>\n",
       "      <th>8450</th>\n",
       "      <td>Barracuda</td>\n",
       "      <td>[Heart]</td>\n",
       "      <td>spotify:track:4KfSdst7rW39C0sfhArdrz</td>\n",
       "    </tr>\n",
       "    <tr>\n",
       "      <th>8451</th>\n",
       "      <td>About Damn Time</td>\n",
       "      <td>[Lizzo]</td>\n",
       "      <td>spotify:track:1PckUlxKqWQs3RlWXVBLw3</td>\n",
       "    </tr>\n",
       "  </tbody>\n",
       "</table>\n",
       "<p>8452 rows × 3 columns</p>\n",
       "</div>"
      ],
      "text/plain": [
       "                                           title  \\\n",
       "0                              Take Me To Church   \n",
       "1                    Cooler Than Me - Single Mix   \n",
       "2               See You Again (feat. Kali Uchis)   \n",
       "3                                        Pompeii   \n",
       "4             Hips Don't Lie (feat. Wyclef Jean)   \n",
       "...                                          ...   \n",
       "8447                                  Hot N Cold   \n",
       "8448                              What Lovers Do   \n",
       "8449  You Need To Calm Down - Clean Bandit Remix   \n",
       "8450                                   Barracuda   \n",
       "8451                             About Damn Time   \n",
       "\n",
       "                               artists                                   uri  \n",
       "0                             [Hozier]  spotify:track:7dS5EaCoMnN7DzlpT6aRn2  \n",
       "1              [Mike Posner, Gigamesh]  spotify:track:2V4bv1fNWfTcyRJKmej6Sj  \n",
       "2     [Tyler, The Creator, Kali Uchis]  spotify:track:7KA4W4McWYRpgf0fWsJZWB  \n",
       "3                           [Bastille]  spotify:track:3gbBpTdY8lnQwqxNCcf795  \n",
       "4               [Shakira, Wyclef Jean]  spotify:track:3ZFTkvIE7kyPt6Nu3PEa7V  \n",
       "...                                ...                                   ...  \n",
       "8447                      [Katy Perry]  spotify:track:1ulXmqjktxSdrdT1bzc69H  \n",
       "8448                   [Maroon 5, SZA]  spotify:track:0ExtPzAWi4arQz6kaabm02  \n",
       "8449      [Taylor Swift, Clean Bandit]  spotify:track:7Bjf96uNizpvXLvNyOJpst  \n",
       "8450                           [Heart]  spotify:track:4KfSdst7rW39C0sfhArdrz  \n",
       "8451                           [Lizzo]  spotify:track:1PckUlxKqWQs3RlWXVBLw3  \n",
       "\n",
       "[8452 rows x 3 columns]"
      ]
     },
     "execution_count": 38,
     "metadata": {},
     "output_type": "execute_result"
    }
   ],
   "source": [
    "pd.DataFrame(songs_collection)"
   ]
  },
  {
   "cell_type": "code",
   "execution_count": 39,
   "id": "e2e5825b",
   "metadata": {},
   "outputs": [],
   "source": [
    "def getAudioFeatures(collection):\n",
    "    collection_df = pd.DataFrame(collection)\n",
    "    #Drop duplicate songs before getting audio features\n",
    "    collection_df = collection_df.drop_duplicates(subset=['uri'])\n",
    "    songs_uri = list(collection_df['uri'])\n",
    "    songs_uri_list_of_100 = []\n",
    "    uri_100 = []\n",
    "    for uri in songs_uri:\n",
    "        if (len(uri_100) < 100) & (uri == songs_uri[-1]):\n",
    "            uri_100.append(uri)\n",
    "            songs_uri_list_of_100.append(uri_100)\n",
    "            uri_100 = []\n",
    "        elif len(uri_100) < 100:\n",
    "            uri_100.append(uri)\n",
    "        elif len(uri_100) >= 100:\n",
    "            songs_uri_list_of_100.append(uri_100)\n",
    "            uri_100 = []\n",
    "            uri_100.append(uri)\n",
    "    audio_features = []\n",
    "    for uri_list in songs_uri_list_of_100:\n",
    "        audio_list = sp.audio_features(uri_list)\n",
    "        audio_features = audio_features + audio_list\n",
    "        sleep(randint(1,3000/1000)) #respectful nap\n",
    "    collection_df['audio_features'] = audio_features\n",
    "    return collection_df"
   ]
  },
  {
   "cell_type": "code",
   "execution_count": 42,
   "id": "763dcbcd",
   "metadata": {},
   "outputs": [
    {
     "data": {
      "text/html": [
       "<div>\n",
       "<style scoped>\n",
       "    .dataframe tbody tr th:only-of-type {\n",
       "        vertical-align: middle;\n",
       "    }\n",
       "\n",
       "    .dataframe tbody tr th {\n",
       "        vertical-align: top;\n",
       "    }\n",
       "\n",
       "    .dataframe thead th {\n",
       "        text-align: right;\n",
       "    }\n",
       "</style>\n",
       "<table border=\"1\" class=\"dataframe\">\n",
       "  <thead>\n",
       "    <tr style=\"text-align: right;\">\n",
       "      <th></th>\n",
       "      <th>title</th>\n",
       "      <th>artists</th>\n",
       "      <th>uri</th>\n",
       "      <th>audio_features</th>\n",
       "    </tr>\n",
       "  </thead>\n",
       "  <tbody>\n",
       "    <tr>\n",
       "      <th>0</th>\n",
       "      <td>Take Me To Church</td>\n",
       "      <td>[Hozier]</td>\n",
       "      <td>spotify:track:7dS5EaCoMnN7DzlpT6aRn2</td>\n",
       "      <td>{'danceability': 0.566, 'energy': 0.664, 'key'...</td>\n",
       "    </tr>\n",
       "    <tr>\n",
       "      <th>1</th>\n",
       "      <td>Cooler Than Me - Single Mix</td>\n",
       "      <td>[Mike Posner, Gigamesh]</td>\n",
       "      <td>spotify:track:2V4bv1fNWfTcyRJKmej6Sj</td>\n",
       "      <td>{'danceability': 0.768, 'energy': 0.82, 'key':...</td>\n",
       "    </tr>\n",
       "    <tr>\n",
       "      <th>2</th>\n",
       "      <td>See You Again (feat. Kali Uchis)</td>\n",
       "      <td>[Tyler, The Creator, Kali Uchis]</td>\n",
       "      <td>spotify:track:7KA4W4McWYRpgf0fWsJZWB</td>\n",
       "      <td>{'danceability': 0.558, 'energy': 0.559, 'key'...</td>\n",
       "    </tr>\n",
       "    <tr>\n",
       "      <th>3</th>\n",
       "      <td>Pompeii</td>\n",
       "      <td>[Bastille]</td>\n",
       "      <td>spotify:track:3gbBpTdY8lnQwqxNCcf795</td>\n",
       "      <td>{'danceability': 0.679, 'energy': 0.715, 'key'...</td>\n",
       "    </tr>\n",
       "    <tr>\n",
       "      <th>4</th>\n",
       "      <td>Hips Don't Lie (feat. Wyclef Jean)</td>\n",
       "      <td>[Shakira, Wyclef Jean]</td>\n",
       "      <td>spotify:track:3ZFTkvIE7kyPt6Nu3PEa7V</td>\n",
       "      <td>{'danceability': 0.778, 'energy': 0.824, 'key'...</td>\n",
       "    </tr>\n",
       "    <tr>\n",
       "      <th>...</th>\n",
       "      <td>...</td>\n",
       "      <td>...</td>\n",
       "      <td>...</td>\n",
       "      <td>...</td>\n",
       "    </tr>\n",
       "    <tr>\n",
       "      <th>8447</th>\n",
       "      <td>Hot N Cold</td>\n",
       "      <td>[Katy Perry]</td>\n",
       "      <td>spotify:track:1ulXmqjktxSdrdT1bzc69H</td>\n",
       "      <td>{'danceability': 0.706, 'energy': 0.841, 'key'...</td>\n",
       "    </tr>\n",
       "    <tr>\n",
       "      <th>8448</th>\n",
       "      <td>What Lovers Do</td>\n",
       "      <td>[Maroon 5, SZA]</td>\n",
       "      <td>spotify:track:0ExtPzAWi4arQz6kaabm02</td>\n",
       "      <td>{'danceability': 0.799, 'energy': 0.597, 'key'...</td>\n",
       "    </tr>\n",
       "    <tr>\n",
       "      <th>8449</th>\n",
       "      <td>You Need To Calm Down - Clean Bandit Remix</td>\n",
       "      <td>[Taylor Swift, Clean Bandit]</td>\n",
       "      <td>spotify:track:7Bjf96uNizpvXLvNyOJpst</td>\n",
       "      <td>{'danceability': 0.726, 'energy': 0.88, 'key':...</td>\n",
       "    </tr>\n",
       "    <tr>\n",
       "      <th>8450</th>\n",
       "      <td>Barracuda</td>\n",
       "      <td>[Heart]</td>\n",
       "      <td>spotify:track:4KfSdst7rW39C0sfhArdrz</td>\n",
       "      <td>{'danceability': 0.548, 'energy': 0.691, 'key'...</td>\n",
       "    </tr>\n",
       "    <tr>\n",
       "      <th>8451</th>\n",
       "      <td>About Damn Time</td>\n",
       "      <td>[Lizzo]</td>\n",
       "      <td>spotify:track:1PckUlxKqWQs3RlWXVBLw3</td>\n",
       "      <td>{'danceability': 0.836, 'energy': 0.743, 'key'...</td>\n",
       "    </tr>\n",
       "  </tbody>\n",
       "</table>\n",
       "<p>7987 rows × 4 columns</p>\n",
       "</div>"
      ],
      "text/plain": [
       "                                           title  \\\n",
       "0                              Take Me To Church   \n",
       "1                    Cooler Than Me - Single Mix   \n",
       "2               See You Again (feat. Kali Uchis)   \n",
       "3                                        Pompeii   \n",
       "4             Hips Don't Lie (feat. Wyclef Jean)   \n",
       "...                                          ...   \n",
       "8447                                  Hot N Cold   \n",
       "8448                              What Lovers Do   \n",
       "8449  You Need To Calm Down - Clean Bandit Remix   \n",
       "8450                                   Barracuda   \n",
       "8451                             About Damn Time   \n",
       "\n",
       "                               artists                                   uri  \\\n",
       "0                             [Hozier]  spotify:track:7dS5EaCoMnN7DzlpT6aRn2   \n",
       "1              [Mike Posner, Gigamesh]  spotify:track:2V4bv1fNWfTcyRJKmej6Sj   \n",
       "2     [Tyler, The Creator, Kali Uchis]  spotify:track:7KA4W4McWYRpgf0fWsJZWB   \n",
       "3                           [Bastille]  spotify:track:3gbBpTdY8lnQwqxNCcf795   \n",
       "4               [Shakira, Wyclef Jean]  spotify:track:3ZFTkvIE7kyPt6Nu3PEa7V   \n",
       "...                                ...                                   ...   \n",
       "8447                      [Katy Perry]  spotify:track:1ulXmqjktxSdrdT1bzc69H   \n",
       "8448                   [Maroon 5, SZA]  spotify:track:0ExtPzAWi4arQz6kaabm02   \n",
       "8449      [Taylor Swift, Clean Bandit]  spotify:track:7Bjf96uNizpvXLvNyOJpst   \n",
       "8450                           [Heart]  spotify:track:4KfSdst7rW39C0sfhArdrz   \n",
       "8451                           [Lizzo]  spotify:track:1PckUlxKqWQs3RlWXVBLw3   \n",
       "\n",
       "                                         audio_features  \n",
       "0     {'danceability': 0.566, 'energy': 0.664, 'key'...  \n",
       "1     {'danceability': 0.768, 'energy': 0.82, 'key':...  \n",
       "2     {'danceability': 0.558, 'energy': 0.559, 'key'...  \n",
       "3     {'danceability': 0.679, 'energy': 0.715, 'key'...  \n",
       "4     {'danceability': 0.778, 'energy': 0.824, 'key'...  \n",
       "...                                                 ...  \n",
       "8447  {'danceability': 0.706, 'energy': 0.841, 'key'...  \n",
       "8448  {'danceability': 0.799, 'energy': 0.597, 'key'...  \n",
       "8449  {'danceability': 0.726, 'energy': 0.88, 'key':...  \n",
       "8450  {'danceability': 0.548, 'energy': 0.691, 'key'...  \n",
       "8451  {'danceability': 0.836, 'energy': 0.743, 'key'...  \n",
       "\n",
       "[7987 rows x 4 columns]"
      ]
     },
     "execution_count": 42,
     "metadata": {},
     "output_type": "execute_result"
    }
   ],
   "source": [
    "songs_collection_df = getAudioFeatures(songs_collection)\n",
    "songs_collection_df"
   ]
  },
  {
   "cell_type": "markdown",
   "id": "22545397",
   "metadata": {},
   "source": [
    "#### Links to playlists:\n",
    "\n",
    "- https://open.spotify.com/playlist/33FRDbQyLp5XCkpoIcGjck\n",
    "- https://open.spotify.com/playlist/6FrDaUqpVA7TbQ1YkSRAjx"
   ]
  },
  {
   "cell_type": "code",
   "execution_count": null,
   "id": "fe385d8b",
   "metadata": {},
   "outputs": [],
   "source": []
  }
 ],
 "metadata": {
  "kernelspec": {
   "display_name": "Python 3 (ipykernel)",
   "language": "python",
   "name": "python3"
  },
  "language_info": {
   "codemirror_mode": {
    "name": "ipython",
    "version": 3
   },
   "file_extension": ".py",
   "mimetype": "text/x-python",
   "name": "python",
   "nbconvert_exporter": "python",
   "pygments_lexer": "ipython3",
   "version": "3.9.13"
  }
 },
 "nbformat": 4,
 "nbformat_minor": 5
}
